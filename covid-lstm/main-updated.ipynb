{
 "cells": [
  {
   "cell_type": "markdown",
   "metadata": {},
   "source": [
    "# LSTM "
   ]
  },
  {
   "cell_type": "markdown",
   "metadata": {},
   "source": [
    "### Importing the module that scrapes the internet for the latest values count"
   ]
  },
  {
   "cell_type": "code",
   "execution_count": 8,
   "metadata": {},
   "outputs": [],
   "source": [
    "import csv_updater"
   ]
  },
  {
   "cell_type": "code",
   "execution_count": 9,
   "metadata": {},
   "outputs": [
    {
     "name": "stdout",
     "output_type": "stream",
     "text": [
      "Collecting package metadata (current_repodata.json): ...working... done\n",
      "Solving environment: ...working... failed with initial frozen solve. Retrying with flexible solve.\n",
      "Solving environment: ...working... failed with repodata from current_repodata.json, will retry with next repodata source.\n",
      "Collecting package metadata (repodata.json): ...working... done\n",
      "Solving environment: ...working... failed with initial frozen solve. Retrying with flexible solve.\n",
      "Solving environment: ...working... \n",
      "Found conflicts! Looking for incompatible packages.\n",
      "This can take several minutes.  Press CTRL-C to abort.\n",
      "failed\n",
      "\n",
      "Note: you may need to restart the kernel to use updated packages.\n"
     ]
    },
    {
     "name": "stderr",
     "output_type": "stream",
     "text": [
      "\n",
      "Finding conflicts:   0%|          | 0/98 [00:00<?, ?it/s]\n",
      "Examining six:   0%|          | 0/98 [00:00<?, ?it/s]    \n",
      "Examining keras-base:   1%|1         | 1/98 [00:00<?, ?it/s]\n",
      "Examining pyflakes:   2%|2         | 2/98 [00:00<?, ?it/s]  \n",
      "Examining scipy:   3%|3         | 3/98 [00:00<?, ?it/s]   \n",
      "Examining termcolor:   4%|4         | 4/98 [00:00<?, ?it/s]\n",
      "Examining pep8-naming:   5%|5         | 5/98 [00:00<?, ?it/s]\n",
      "Examining absl-py:   6%|6         | 6/98 [00:00<?, ?it/s]    \n",
      "Examining msgpack-python:   7%|7         | 7/98 [00:00<?, ?it/s]\n",
      "Examining zlib:   8%|8         | 8/98 [00:00<?, ?it/s]          \n",
      "Examining pyopenssl:   9%|9         | 9/98 [00:00<?, ?it/s]\n",
      "Examining google-auth-oauthlib:  10%|#         | 10/98 [00:00<?, ?it/s]\n",
      "Examining opt_einsum:  11%|#1        | 11/98 [00:00<?, ?it/s]          \n",
      "Examining hdf5:  12%|#2        | 12/98 [00:00<?, ?it/s]      \n",
      "Examining tensorflow-estimator:  13%|#3        | 13/98 [00:00<?, ?it/s]\n",
      "Examining pycodestyle:  14%|#4        | 14/98 [00:00<?, ?it/s]         \n",
      "Examining cffi:  15%|#5        | 15/98 [00:00<?, ?it/s]       \n",
      "Examining win_inet_pton:  16%|#6        | 16/98 [00:00<00:00, 16316.28it/s]\n",
      "Examining wrapt:  17%|#7        | 17/98 [00:00<00:00, 17336.05it/s]        \n",
      "Examining requests:  18%|#8        | 18/98 [00:00<00:00, 18355.82it/s]\n",
      "Examining progress:  19%|#9        | 19/98 [00:00<00:00, 19375.58it/s]\n",
      "Examining flake8-polyfill:  20%|##        | 20/98 [00:00<00:00, 20395.35it/s]\n",
      "Examining cryptography-vectors:  21%|##1       | 21/98 [00:00<00:00, 21415.12it/s]\n",
      "Examining mkl:  22%|##2       | 22/98 [00:00<00:00, 22434.89it/s]                 \n",
      "Examining cryptography:  23%|##3       | 23/98 [00:00<00:00, 23454.65it/s]\n",
      "Examining ca-certificates:  24%|##4       | 24/98 [00:00<00:00, 24474.42it/s]\n",
      "Examining flake8:  26%|##5       | 25/98 [00:00<00:00, 25494.19it/s]         \n",
      "Examining idna:  27%|##6       | 26/98 [00:00<00:00, 26513.96it/s]  \n",
      "Examining python:  28%|##7       | 27/98 [00:00<00:00, 27533.72it/s]\n",
      "\n",
      "Comparing specs that have this dependency:   0%|          | 0/2 [00:00<?, ?it/s]\n",
      "\n",
      "\n",
      "Finding conflict paths:   0%|          | 0/2 [00:00<?, ?it/s]\n",
      "\n",
      "\n",
      "Finding shortest conflict path for python=3.8:   0%|          | 0/2 [00:00<?, ?it/s]\n",
      "\n",
      "\n",
      "Finding shortest conflict path for python[version='>=3.8,<3.9.0a0']:  50%|#####     | 1/2 [00:00<?, ?it/s]\n",
      "\n",
      "\n",
      "                                                                                                          \n",
      "\n",
      "\n",
      "Finding conflict paths:   0%|          | 0/11 [00:00<?, ?it/s]\n",
      "\n",
      "\n",
      "Finding shortest conflict path for python[version='>=3.7,<3.8.0a0']:   0%|          | 0/11 [00:00<?, ?it/s]\n",
      "\n",
      "\n",
      "Finding shortest conflict path for python[version='>=3.5']:   9%|9         | 1/11 [00:00<00:00, 45.58it/s] \n",
      "\n",
      "\n",
      "Finding shortest conflict path for msgpack-python:  18%|#8        | 2/11 [00:07<00:33,  3.75s/it]         \n",
      "\n",
      "\n",
      "Finding shortest conflict path for msgpack-python:  27%|##7       | 3/11 [00:07<00:19,  2.50s/it]\n",
      "\n",
      "\n",
      "Finding shortest conflict path for python[version='>=3.6']:  27%|##7       | 3/11 [00:50<00:19,  2.50s/it]\n",
      "\n",
      "\n",
      "Finding shortest conflict path for python[version='>=3.6']:  36%|###6      | 4/11 [00:50<01:42, 14.67s/it]\n",
      "\n",
      "\n",
      "Finding shortest conflict path for python=3.5:  36%|###6      | 4/11 [01:30<01:42, 14.67s/it]             \n",
      "\n",
      "\n",
      "Finding shortest conflict path for python=3.5:  45%|####5     | 5/11 [01:30<02:13, 22.28s/it]\n",
      "\n",
      "\n",
      "Finding shortest conflict path for python=3.8:  45%|####5     | 5/11 [01:31<02:13, 22.28s/it]\n",
      "\n",
      "\n",
      "Finding shortest conflict path for python=3.8:  55%|#####4    | 6/11 [01:31<01:18, 15.75s/it]\n",
      "\n",
      "\n",
      "Finding shortest conflict path for python=3.6:  55%|#####4    | 6/11 [02:16<01:18, 15.75s/it]\n",
      "\n",
      "\n",
      "Finding shortest conflict path for python=3.6:  64%|######3   | 7/11 [02:16<01:38, 24.51s/it]\n",
      "\n",
      "\n",
      "Finding shortest conflict path for python[version='>=3.6,<3.7.0a0']:  64%|######3   | 7/11 [02:16<01:38, 24.51s/it]\n",
      "\n",
      "\n",
      "Finding shortest conflict path for python[version='>=3.6,<3.7.0a0']:  73%|#######2  | 8/11 [02:16<00:51, 17.31s/it]\n",
      "\n",
      "\n",
      "Finding shortest conflict path for python=3.7:  73%|#######2  | 8/11 [02:16<00:51, 17.31s/it]                      \n",
      "\n",
      "\n",
      "Finding shortest conflict path for python[version='>=3.5,<3.6.0a0']:  82%|########1 | 9/11 [02:17<00:34, 17.31s/it]\n",
      "\n",
      "\n",
      "Finding shortest conflict path for python[version='>=3.5,<3.6.0a0']:  91%|######### | 10/11 [02:17<00:12, 12.19s/it]\n",
      "\n",
      "\n",
      "Finding shortest conflict path for python:  91%|######### | 10/11 [02:17<00:12, 12.19s/it]                          \n",
      "\n",
      "\n",
      "                                                                                          \n",
      "\n",
      "Comparing specs that have this dependency: 100%|##########| 2/2 [02:18<00:00, 69.08s/it]\n",
      "\n",
      "                                                                                        \n",
      "Examining sqlite:  29%|##8       | 28/98 [02:18<05:45,  4.93s/it]   \n",
      "Examining sqlite:  30%|##9       | 29/98 [02:18<05:28,  4.76s/it]\n",
      "Examining urllib3:  30%|##9       | 29/98 [02:18<05:28,  4.76s/it]\n",
      "Examining blinker:  31%|###       | 30/98 [02:18<05:23,  4.76s/it]\n",
      "Examining requests-oauthlib:  32%|###1      | 31/98 [02:18<05:19,  4.76s/it]\n",
      "Examining mkl_fft:  33%|###2      | 32/98 [02:18<05:14,  4.76s/it]          \n",
      "Examining pyasn1:  34%|###3      | 33/98 [02:18<05:09,  4.76s/it] \n",
      "Examining tensorflow:  35%|###4      | 34/98 [02:18<05:04,  4.76s/it]\n",
      "Examining pyreadline:  36%|###5      | 35/98 [02:18<05:00,  4.76s/it]\n",
      "Examining mock:  37%|###6      | 36/98 [02:18<04:55,  4.76s/it]      \n",
      "Examining oauthlib:  38%|###7      | 37/98 [02:18<04:50,  4.76s/it]\n",
      "Examining pbr:  39%|###8      | 38/98 [02:18<04:45,  4.76s/it]     \n",
      "Examining entrypoints:  40%|###9      | 39/98 [02:18<04:41,  4.76s/it]\n",
      "Examining pyyaml:  41%|####      | 40/98 [02:18<04:36,  4.76s/it]     \n",
      "Examining h5py:  42%|####1     | 41/98 [02:18<04:31,  4.76s/it]  \n",
      "Examining cachetools:  43%|####2     | 42/98 [02:18<04:26,  4.76s/it]\n",
      "Examining grpcio:  44%|####3     | 43/98 [02:18<04:22,  4.76s/it]    \n",
      "Examining colorama:  45%|####4     | 44/98 [02:18<04:17,  4.76s/it]\n",
      "Examining chardet:  46%|####5     | 45/98 [02:18<04:12,  4.76s/it] \n",
      "Examining yaml:  47%|####6     | 46/98 [02:18<04:07,  4.76s/it]   \n",
      "Examining keras-applications:  48%|####7     | 47/98 [02:18<04:02,  4.76s/it]\n",
      "Examining html5lib:  49%|####8     | 48/98 [02:18<03:58,  4.76s/it]          \n",
      "Examining cachecontrol:  50%|#####     | 49/98 [02:18<03:53,  4.76s/it]\n",
      "Examining intel-openmp:  51%|#####1    | 50/98 [02:18<03:48,  4.76s/it]\n",
      "Examining certifi:  52%|#####2    | 51/98 [02:18<03:43,  4.76s/it]     \n",
      "\n",
      "Comparing specs that have this dependency:   0%|          | 0/2 [00:00<?, ?it/s]\n",
      "\n",
      "\n",
      "Finding conflict paths:   0%|          | 0/3 [00:00<?, ?it/s]\n",
      "\n",
      "\n",
      "Finding shortest conflict path for certifi[version='>=2016.09']:   0%|          | 0/3 [00:00<?, ?it/s]\n",
      "\n",
      "\n",
      "Finding shortest conflict path for certifi[version='>=2016.9.26']:  33%|###3      | 1/3 [00:00<00:00, 333.20it/s]\n",
      "\n",
      "\n",
      "Finding shortest conflict path for ca-certificates:  67%|######6   | 2/3 [00:00<00:00, 333.28it/s]               \n",
      "\n",
      "\n",
      "                                                                                                  \n",
      "\n",
      "\n",
      "Finding conflict paths:   0%|          | 0/5 [00:00<?, ?it/s]\n",
      "\n",
      "\n",
      "Finding shortest conflict path for certifi:   0%|          | 0/5 [00:00<?, ?it/s]\n",
      "\n",
      "\n",
      "Finding shortest conflict path for certifi[version='>=2017.4.17']:  20%|##        | 1/5 [00:42<02:49, 42.26s/it]\n",
      "\n",
      "\n",
      "Finding shortest conflict path for certifi[version='>=2017.4.17']:  40%|####      | 2/5 [00:42<01:03, 21.13s/it]\n",
      "\n",
      "\n",
      "Finding shortest conflict path for certifi[version='>=2016.09']:  40%|####      | 2/5 [01:25<01:03, 21.13s/it]  \n",
      "\n",
      "\n",
      "Finding shortest conflict path for certifi[version='>=2016.09']:  60%|######    | 3/5 [01:25<00:55, 27.62s/it]\n",
      "\n",
      "\n",
      "Finding shortest conflict path for certifi[version='>=2016.9.26']:  60%|######    | 3/5 [02:07<00:55, 27.62s/it]\n",
      "\n",
      "\n",
      "Finding shortest conflict path for certifi[version='>=2016.9.26']:  80%|########  | 4/5 [02:07<00:32, 32.08s/it]\n",
      "\n",
      "\n",
      "Finding shortest conflict path for ca-certificates:  80%|########  | 4/5 [02:50<00:32, 32.08s/it]               \n",
      "\n",
      "\n",
      "Finding shortest conflict path for ca-certificates: 100%|##########| 5/5 [02:50<00:00, 35.25s/it]\n",
      "\n",
      "\n",
      "                                                                                                 \n",
      "\n",
      "Comparing specs that have this dependency: 100%|##########| 2/2 [02:58<00:00, 89.38s/it]\n",
      "\n",
      "                                                                                        \n",
      "Examining libprotobuf:  53%|#####3    | 52/98 [05:16<03:39,  4.76s/it]\n",
      "Examining libprotobuf:  54%|#####4    | 53/98 [05:16<04:10,  5.57s/it]\n",
      "Examining mkl_random:  54%|#####4    | 53/98 [05:16<04:10,  5.57s/it] \n",
      "Examining wincertstore:  55%|#####5    | 54/98 [05:16<04:05,  5.57s/it]\n",
      "\n",
      "Comparing specs that have this dependency:   0%|          | 0/2 [00:00<?, ?it/s]\n",
      "\n",
      "\n",
      "Finding conflict paths:   0%|          | 0/1 [00:00<?, ?it/s]\n",
      "\n",
      "\n",
      "Finding shortest conflict path for wincertstore[version='>=0.2']:   0%|          | 0/1 [00:00<?, ?it/s]\n",
      "\n",
      "\n",
      "                                                                                                       \n",
      "\n",
      "\n",
      "Finding conflict paths:   0%|          | 0/2 [00:00<?, ?it/s]\n",
      "\n",
      "\n",
      "Finding shortest conflict path for wincertstore:   0%|          | 0/2 [00:00<?, ?it/s]\n",
      "\n",
      "\n",
      "Finding shortest conflict path for wincertstore[version='>=0.2']:  50%|#####     | 1/2 [00:42<00:42, 42.52s/it]\n",
      "\n",
      "\n",
      "Finding shortest conflict path for wincertstore[version='>=0.2']: 100%|##########| 2/2 [00:42<00:00, 21.26s/it]\n",
      "\n",
      "\n",
      "                                                                                                               \n",
      "\n",
      "Comparing specs that have this dependency: 100%|##########| 2/2 [01:25<00:00, 42.90s/it]\n",
      "\n",
      "                                                                                        \n",
      "Examining setuptools:  56%|#####6    | 55/98 [06:42<03:59,  5.57s/it]  \n",
      "Examining setuptools:  57%|#####7    | 56/98 [06:42<08:44, 12.48s/it]\n",
      "\n",
      "Comparing specs that have this dependency:   0%|          | 0/2 [00:00<?, ?it/s]\n",
      "\n",
      "\n",
      "Finding conflict paths:   0%|          | 0/1 [00:00<?, ?it/s]\n",
      "\n",
      "\n",
      "Finding shortest conflict path for setuptools:   0%|          | 0/1 [00:00<?, ?it/s]\n",
      "\n",
      "\n",
      "                                                                                    \n",
      "\n",
      "\n",
      "Finding conflict paths:   0%|          | 0/4 [00:00<?, ?it/s]\n",
      "\n",
      "\n",
      "Finding shortest conflict path for setuptools[version='>=30.0.0']:   0%|          | 0/4 [00:00<?, ?it/s]\n",
      "\n",
      "\n",
      "Finding shortest conflict path for setuptools:  25%|##5       | 1/4 [00:47<02:22, 47.40s/it]            \n",
      "\n",
      "\n",
      "Finding shortest conflict path for setuptools:  50%|#####     | 2/4 [00:47<00:47, 23.70s/it]\n",
      "\n",
      "\n",
      "Finding shortest conflict path for setuptools[version='>=40.3.0']:  50%|#####     | 2/4 [00:56<00:47, 23.70s/it]\n",
      "\n",
      "\n",
      "Finding shortest conflict path for setuptools[version='>=40.3.0']:  75%|#######5  | 3/4 [00:56<00:19, 19.37s/it]\n",
      "\n",
      "\n",
      "Finding shortest conflict path for setuptools[version='>=41.0.0']:  75%|#######5  | 3/4 [01:38<00:19, 19.37s/it]\n",
      "\n",
      "\n",
      "Finding shortest conflict path for setuptools[version='>=41.0.0']: 100%|##########| 4/4 [01:38<00:00, 26.08s/it]\n",
      "\n",
      "\n",
      "                                                                                                                \n",
      "\n",
      "Comparing specs that have this dependency: 100%|##########| 2/2 [01:47<00:00, 53.65s/it]\n",
      "\n",
      "                                                                                        \n",
      "Examining mkl-service:  57%|#####7    | 56/98 [08:30<08:44, 12.48s/it]\n",
      "Examining mkl-service:  58%|#####8    | 57/98 [08:30<27:57, 40.93s/it]\n",
      "Examining wheel:  58%|#####8    | 57/98 [08:30<27:57, 40.93s/it]      \n",
      "\n",
      "Comparing specs that have this dependency:   0%|          | 0/2 [00:00<?, ?it/s]\n",
      "\n",
      "\n",
      "Finding conflict paths:   0%|          | 0/1 [00:00<?, ?it/s]\n",
      "\n",
      "\n",
      "Finding shortest conflict path for wheel:   0%|          | 0/1 [00:00<?, ?it/s]\n",
      "\n",
      "\n",
      "                                                                               \n",
      "\n",
      "\n",
      "Finding conflict paths:   0%|          | 0/1 [00:00<?, ?it/s]\n",
      "\n",
      "\n",
      "Finding shortest conflict path for wheel:   0%|          | 0/1 [00:00<?, ?it/s]\n",
      "\n",
      "\n",
      "                                                                               \n",
      "\n",
      "Comparing specs that have this dependency: 100%|##########| 2/2 [00:08<00:00,  4.03s/it]\n",
      "\n",
      "                                                                                        \n",
      "Examining tensorboard:  59%|#####9    | 58/98 [08:38<27:17, 40.93s/it]\n",
      "Examining tensorboard:  60%|######    | 59/98 [08:38<19:24, 29.86s/it]\n",
      "Examining webencodings:  60%|######    | 59/98 [08:38<19:24, 29.86s/it]\n",
      "Examining _tflow_select:  61%|######1   | 60/98 [08:38<18:54, 29.86s/it]\n",
      "Examining pycparser:  62%|######2   | 61/98 [08:38<18:24, 29.86s/it]    \n",
      "Examining numpy-base:  63%|######3   | 62/98 [08:38<17:54, 29.86s/it]\n",
      "Examining click:  64%|######4   | 63/98 [08:38<17:24, 29.86s/it]     \n",
      "Examining vs2015_runtime:  65%|######5   | 64/98 [08:38<16:55, 29.86s/it]\n",
      "Examining tensorflow-base:  66%|######6   | 65/98 [08:38<16:25, 29.86s/it]\n",
      "Examining blas:  67%|######7   | 66/98 [08:38<15:55, 29.86s/it]           \n",
      "Examining google-pasta:  68%|######8   | 67/98 [08:38<15:25, 29.86s/it]\n",
      "Examining tbb4py:  69%|######9   | 68/98 [08:38<14:55, 29.86s/it]      \n",
      "Examining astor:  70%|#######   | 69/98 [08:38<14:25, 29.86s/it] \n",
      "Examining keras-preprocessing:  71%|#######1  | 70/98 [08:38<13:55, 29.86s/it]\n",
      "Examining asn1crypto:  72%|#######2  | 71/98 [08:38<13:26, 29.86s/it]         \n",
      "Examining pip:  73%|#######3  | 72/98 [08:38<12:56, 29.86s/it]       \n",
      "\n",
      "Comparing specs that have this dependency:   0%|          | 0/2 [00:00<?, ?it/s]\n",
      "\n",
      "\n",
      "Finding conflict paths:   0%|          | 0/1 [00:00<?, ?it/s]\n",
      "\n",
      "\n",
      "Finding shortest conflict path for pip:   0%|          | 0/1 [00:00<?, ?it/s]\n",
      "\n",
      "\n",
      "                                                                             \n",
      "\n",
      "\n",
      "Finding conflict paths:   0%|          | 0/1 [00:00<?, ?it/s]\n",
      "\n",
      "\n",
      "Finding shortest conflict path for pip:   0%|          | 0/1 [00:00<?, ?it/s]\n",
      "\n",
      "\n",
      "                                                                             \n",
      "\n",
      "Comparing specs that have this dependency: 100%|##########| 2/2 [00:00<00:00,  4.17it/s]\n",
      "\n",
      "                                                                                        \n",
      "Examining vs2013_runtime:  74%|#######4  | 73/98 [08:38<12:26, 29.86s/it]\n",
      "Examining vs2013_runtime:  76%|#######5  | 74/98 [08:38<08:21, 20.91s/it]\n",
      "Examining werkzeug:  76%|#######5  | 74/98 [08:38<08:21, 20.91s/it]      \n",
      "Examining gast:  77%|#######6  | 75/98 [08:38<08:00, 20.91s/it]    \n",
      "Examining mccabe:  78%|#######7  | 76/98 [08:38<07:39, 20.91s/it]\n",
      "Examining keras:  79%|#######8  | 77/98 [08:38<07:19, 20.91s/it] \n",
      "Examining distlib:  80%|#######9  | 78/98 [08:38<06:58, 20.91s/it]\n",
      "Examining lockfile:  81%|########  | 79/98 [08:38<06:37, 20.91s/it]\n",
      "Examining openssl:  82%|########1 | 80/98 [08:38<06:16, 20.91s/it] \n",
      "Examining protobuf:  83%|########2 | 81/98 [08:38<05:55, 20.91s/it]\n",
      "Examining rsa:  84%|########3 | 82/98 [08:38<05:34, 20.91s/it]     \n",
      "Examining pyjwt:  85%|########4 | 83/98 [08:38<05:13, 20.91s/it]\n",
      "Examining vc:  86%|########5 | 84/98 [08:38<04:52, 20.91s/it]   \n",
      "Examining libmklml:  87%|########6 | 85/98 [08:38<04:31, 20.91s/it]\n",
      "Examining cudnn:  88%|########7 | 86/98 [08:38<04:10, 20.91s/it]   \n",
      "Examining google-auth:  89%|########8 | 87/98 [08:38<03:49, 20.91s/it]\n",
      "Examining numpy:  90%|########9 | 88/98 [08:38<03:29, 20.91s/it]      \n",
      "Examining cudatoolkit:  91%|######### | 89/98 [08:38<03:08, 20.91s/it]\n",
      "Examining pysocks:  92%|#########1| 90/98 [08:38<02:47, 20.91s/it]    \n",
      "Examining flake8-import-order:  93%|#########2| 91/98 [08:38<02:26, 20.91s/it]\n",
      "Examining pyparsing:  94%|#########3| 92/98 [08:38<02:05, 20.91s/it]          \n",
      "Examining packaging:  95%|#########4| 93/98 [08:38<01:44, 20.91s/it]\n",
      "Examining markdown:  96%|#########5| 94/98 [08:38<01:23, 20.91s/it] \n",
      "Examining pyasn1-modules:  97%|#########6| 95/98 [08:38<01:02, 20.91s/it]\n",
      "Examining tbb:  98%|#########7| 96/98 [08:38<00:41, 20.91s/it]           \n",
      "Examining icc_rt:  99%|#########8| 97/98 [08:38<00:20, 20.91s/it]\n",
      "                                                                 \n",
      "\n",
      "UnsatisfiableError: The following specifications were found\n",
      "to be incompatible with the existing python installation in your environment:\n",
      "\n",
      "Specifications:\n",
      "\n",
      "  - keras -> python[version='3.5.*|3.6.*|3.7.*|>=3.7,<3.8.0a0']\n",
      "  - keras -> python[version='>=3.5,<3.6.0a0|>=3.6,<3.7.0a0']\n",
      "\n",
      "Your python: python=3.8\n",
      "\n",
      "If python is on the left-most side of the chain, that's the version you've asked for.\n",
      "When python appears to the right, that indicates that the thing on the left is somehow\n",
      "not available for the python version you are constrained to. Note that conda will not\n",
      "change your python version to a different minor version unless you explicitly specify\n",
      "that.\n",
      "\n",
      "The following specifications were found to be incompatible with each other:\n",
      "\n",
      "\n",
      "\n",
      "Package certifi conflicts for:\n",
      "keras -> python[version='>=3.6,<3.7.0a0'] -> pip -> setuptools -> certifi[version='>=2016.09|>=2016.9.26|>=2017.4.17']\n",
      "python=3.8 -> pip -> setuptools -> certifi[version='>=2016.09|>=2016.9.26']\n",
      "Package ca-certificates conflicts for:\n",
      "keras -> python[version='>=3.6,<3.7.0a0'] -> openssl[version='>=1.1.1a,<1.1.2a'] -> ca-certificates\n",
      "python=3.8 -> openssl[version='>=1.1.1d,<1.1.2a'] -> ca-certificates\n",
      "Package pip conflicts for:\n",
      "keras -> python[version='>=3.6,<3.7.0a0'] -> pip\n",
      "python=3.8 -> pip\n",
      "Package wincertstore conflicts for:\n"
     ]
    },
    {
     "name": "stderr",
     "output_type": "stream",
     "text": [
      "python=3.8 -> pip -> setuptools -> wincertstore[version='>=0.2']\n",
      "keras -> python[version='>=3.6,<3.7.0a0'] -> pip -> setuptools -> wincertstore[version='>=0.2']\n",
      "Package setuptools conflicts for:\n",
      "keras -> python[version='>=3.6,<3.7.0a0'] -> pip -> setuptools[version='>=41.0.0']\n",
      "keras -> tensorflow[version='<2.0'] -> tensorboard[version='>=2.0.0'] -> google-auth-oauthlib[version='>=0.4.1,<0.5'] -> requests-oauthlib[version='>=0.7.0'] -> oauthlib[version='>=0.6.2'] -> pyjwt[version='>=1.0.0'] -> flake8 -> setuptools[version='>=30.0.0']\n",
      "python=3.8 -> pip -> setuptools\n",
      "keras -> tensorflow[version='<2.0'] -> tensorboard[version='>=2.0.0'] -> google-auth[version='>=1.6.3,<2'] -> setuptools[version='>=40.3.0']\n",
      "Package wheel conflicts for:\n",
      "python=3.8 -> pip -> wheel\n",
      "keras -> python[version='>=3.6,<3.7.0a0'] -> pip -> wheel\n",
      "Package msgpack-python conflicts for:\n",
      "keras -> python[version='>=3.6,<3.7.0a0'] -> pip -> cachecontrol -> msgpack-python\n",
      "\n"
     ]
    }
   ],
   "source": [
    "conda install keras"
   ]
  },
  {
   "cell_type": "code",
   "execution_count": 10,
   "metadata": {},
   "outputs": [
    {
     "ename": "ModuleNotFoundError",
     "evalue": "No module named 'keras'",
     "output_type": "error",
     "traceback": [
      "\u001b[1;31m---------------------------------------------------------------------------\u001b[0m",
      "\u001b[1;31mModuleNotFoundError\u001b[0m                       Traceback (most recent call last)",
      "\u001b[1;32m<ipython-input-10-79d93ae6a1e7>\u001b[0m in \u001b[0;36m<module>\u001b[1;34m\u001b[0m\n\u001b[0;32m      4\u001b[0m \u001b[0mget_ipython\u001b[0m\u001b[1;33m(\u001b[0m\u001b[1;33m)\u001b[0m\u001b[1;33m.\u001b[0m\u001b[0mrun_line_magic\u001b[0m\u001b[1;33m(\u001b[0m\u001b[1;34m'matplotlib'\u001b[0m\u001b[1;33m,\u001b[0m \u001b[1;34m'inline'\u001b[0m\u001b[1;33m)\u001b[0m\u001b[1;33m\u001b[0m\u001b[1;33m\u001b[0m\u001b[0m\n\u001b[0;32m      5\u001b[0m \u001b[1;32mimport\u001b[0m \u001b[0msklearn\u001b[0m\u001b[1;33m\u001b[0m\u001b[1;33m\u001b[0m\u001b[0m\n\u001b[1;32m----> 6\u001b[1;33m \u001b[1;32mimport\u001b[0m  \u001b[0mkeras\u001b[0m\u001b[1;33m\u001b[0m\u001b[1;33m\u001b[0m\u001b[0m\n\u001b[0m\u001b[0;32m      7\u001b[0m \u001b[1;32mfrom\u001b[0m \u001b[0mkeras\u001b[0m\u001b[1;33m.\u001b[0m\u001b[0mpreprocessing\u001b[0m\u001b[1;33m.\u001b[0m\u001b[0msequence\u001b[0m \u001b[1;32mimport\u001b[0m \u001b[0mTimeseriesGenerator\u001b[0m\u001b[1;33m\u001b[0m\u001b[1;33m\u001b[0m\u001b[0m\n",
      "\u001b[1;31mModuleNotFoundError\u001b[0m: No module named 'keras'"
     ]
    }
   ],
   "source": [
    "import numpy as np\n",
    "import pandas as pd\n",
    "import matplotlib.pyplot as plt\n",
    "%matplotlib inline\n",
    "import sklearn\n",
    "import  keras\n",
    "from keras.preprocessing.sequence import TimeseriesGenerator"
   ]
  },
  {
   "cell_type": "markdown",
   "metadata": {},
   "source": [
    "#### Getting the starter data from John Hopkin's CSV File"
   ]
  },
  {
   "cell_type": "code",
   "execution_count": null,
   "metadata": {},
   "outputs": [],
   "source": [
    "df = pd.read_csv(\"johnhopkins-3March.csv\")"
   ]
  },
  {
   "cell_type": "code",
   "execution_count": null,
   "metadata": {},
   "outputs": [],
   "source": [
    "df = df.T"
   ]
  },
  {
   "cell_type": "code",
   "execution_count": null,
   "metadata": {},
   "outputs": [],
   "source": [
    "cols_drop = []\n",
    "for i in range(114):\n",
    "    if i != 0 and i != 5:\n",
    "        cols_drop.append(i)\n",
    "df.drop(df.columns[cols_drop], axis = 1, inplace = True) "
   ]
  },
  {
   "cell_type": "code",
   "execution_count": null,
   "metadata": {},
   "outputs": [],
   "source": [
    "df.drop(['Country/Region', 'WHO region', 'Province/States'], inplace = True)"
   ]
  },
  {
   "cell_type": "markdown",
   "metadata": {},
   "source": [
    "#### Cleaning the Data"
   ]
  },
  {
   "cell_type": "code",
   "execution_count": null,
   "metadata": {},
   "outputs": [],
   "source": [
    "df.head()"
   ]
  },
  {
   "cell_type": "code",
   "execution_count": null,
   "metadata": {},
   "outputs": [],
   "source": [
    "df.shape"
   ]
  },
  {
   "cell_type": "code",
   "execution_count": null,
   "metadata": {},
   "outputs": [],
   "source": [
    "df.rename(columns = {0:'Infected', 5:'Deaths'}, inplace = True)"
   ]
  },
  {
   "cell_type": "code",
   "execution_count": null,
   "metadata": {},
   "outputs": [],
   "source": [
    "df.head()"
   ]
  },
  {
   "cell_type": "code",
   "execution_count": null,
   "metadata": {},
   "outputs": [],
   "source": [
    "df.shape"
   ]
  },
  {
   "cell_type": "markdown",
   "metadata": {},
   "source": [
    "#### Using the dates as indices"
   ]
  },
  {
   "cell_type": "code",
   "execution_count": null,
   "metadata": {},
   "outputs": [],
   "source": [
    "dates_unix = []\n",
    "start = 1579478400\n",
    "for i in range(47):\n",
    "    start += 86400\n",
    "    dates_unix.append(start)\n",
    "\n",
    "print(dates_unix)"
   ]
  },
  {
   "cell_type": "code",
   "execution_count": null,
   "metadata": {},
   "outputs": [],
   "source": [
    "df['Date'] = dates_unix"
   ]
  },
  {
   "cell_type": "code",
   "execution_count": null,
   "metadata": {},
   "outputs": [],
   "source": [
    "df.head()"
   ]
  },
  {
   "cell_type": "code",
   "execution_count": null,
   "metadata": {},
   "outputs": [],
   "source": [
    "df['Date'] = pd.to_datetime(df['Date'], unit='s')"
   ]
  },
  {
   "cell_type": "code",
   "execution_count": null,
   "metadata": {},
   "outputs": [],
   "source": [
    "df.head()"
   ]
  },
  {
   "cell_type": "code",
   "execution_count": null,
   "metadata": {},
   "outputs": [],
   "source": [
    "df.set_index = df['Date']"
   ]
  },
  {
   "cell_type": "code",
   "execution_count": null,
   "metadata": {},
   "outputs": [],
   "source": [
    "df_dates = df['Date']"
   ]
  },
  {
   "cell_type": "code",
   "execution_count": null,
   "metadata": {},
   "outputs": [],
   "source": [
    "start"
   ]
  },
  {
   "cell_type": "code",
   "execution_count": null,
   "metadata": {},
   "outputs": [],
   "source": [
    "df.head()"
   ]
  },
  {
   "cell_type": "code",
   "execution_count": null,
   "metadata": {},
   "outputs": [],
   "source": [
    "df = df.reset_index(drop=True)"
   ]
  },
  {
   "cell_type": "code",
   "execution_count": null,
   "metadata": {},
   "outputs": [],
   "source": [
    "df.set_index(\"Date\", inplace = True) "
   ]
  },
  {
   "cell_type": "code",
   "execution_count": null,
   "metadata": {},
   "outputs": [],
   "source": [
    "df.head()"
   ]
  },
  {
   "cell_type": "code",
   "execution_count": null,
   "metadata": {},
   "outputs": [],
   "source": [
    "df.fillna(0, inplace=True)"
   ]
  },
  {
   "cell_type": "code",
   "execution_count": null,
   "metadata": {},
   "outputs": [],
   "source": [
    "df.head()"
   ]
  },
  {
   "cell_type": "markdown",
   "metadata": {},
   "source": [
    "### Plotting the data"
   ]
  },
  {
   "cell_type": "code",
   "execution_count": null,
   "metadata": {},
   "outputs": [],
   "source": [
    "plt.figure(figsize=(20, 10))\n",
    "plt.plot(df.Infected, 'b--')\n",
    "plt.plot(df.Deaths, 'r--')\n",
    "plt.ylabel(\"Count\")\n",
    "plt.xlabel(\"Date\")\n",
    "plt.show()"
   ]
  },
  {
   "cell_type": "code",
   "execution_count": null,
   "metadata": {},
   "outputs": [],
   "source": [
    "infected, deaths = csv_updater.get_nums()"
   ]
  },
  {
   "cell_type": "code",
   "execution_count": null,
   "metadata": {},
   "outputs": [],
   "source": [
    "import datetime\n",
    "now = datetime.datetime.now()"
   ]
  },
  {
   "cell_type": "code",
   "execution_count": null,
   "metadata": {},
   "outputs": [],
   "source": [
    "currdate = now.strftime(\"%Y-%m-%d\")"
   ]
  },
  {
   "cell_type": "code",
   "execution_count": null,
   "metadata": {},
   "outputs": [],
   "source": [
    "infected, deaths"
   ]
  },
  {
   "cell_type": "code",
   "execution_count": null,
   "metadata": {},
   "outputs": [],
   "source": [
    "# currdate = '2020-03-06'\n",
    "currdate = pd.to_datetime(currdate)"
   ]
  },
  {
   "cell_type": "code",
   "execution_count": null,
   "metadata": {},
   "outputs": [],
   "source": [
    "df.loc[currdate]= [infected, deaths]"
   ]
  },
  {
   "cell_type": "code",
   "execution_count": null,
   "metadata": {},
   "outputs": [],
   "source": [
    "df.tail(1)"
   ]
  },
  {
   "cell_type": "code",
   "execution_count": null,
   "metadata": {},
   "outputs": [],
   "source": [
    "if df.loc[currdate].any():\n",
    "    print(\"Data already exists\")    \n",
    "else:\n",
    "    df.loc[currdate] = [infected, deaths]"
   ]
  },
  {
   "cell_type": "code",
   "execution_count": null,
   "metadata": {},
   "outputs": [],
   "source": [
    "df.tail()"
   ]
  },
  {
   "cell_type": "code",
   "execution_count": null,
   "metadata": {},
   "outputs": [],
   "source": [
    "df.loc['2020-03-04'] = [95310,3285]"
   ]
  },
  {
   "cell_type": "code",
   "execution_count": null,
   "metadata": {},
   "outputs": [],
   "source": [
    "df.loc['2020-03-05'] = [98414,3387]"
   ]
  },
  {
   "cell_type": "code",
   "execution_count": null,
   "metadata": {},
   "outputs": [],
   "source": [
    "# df.drop(['2020-03-04','2020-03-05'], inplace=True)"
   ]
  },
  {
   "cell_type": "markdown",
   "metadata": {},
   "source": [
    "### Exporting the well structured data"
   ]
  },
  {
   "cell_type": "code",
   "execution_count": null,
   "metadata": {},
   "outputs": [],
   "source": [
    "df.to_csv(\"StructuredDataset.csv\")"
   ]
  },
  {
   "cell_type": "code",
   "execution_count": null,
   "metadata": {},
   "outputs": [],
   "source": [
    "df = pd.read_csv(\"StructuredDataset.csv\")"
   ]
  },
  {
   "cell_type": "code",
   "execution_count": null,
   "metadata": {},
   "outputs": [],
   "source": [
    "df.set_index('Date', inplace = True)"
   ]
  },
  {
   "cell_type": "code",
   "execution_count": null,
   "metadata": {},
   "outputs": [],
   "source": [
    "plt.figure(figsize=(20,10))\n",
    "plt.plot(df.Infected, 'b--')\n",
    "plt.plot(df.Deaths, 'r--')\n",
    "plt.xlabel('Dates')\n",
    "plt.show()"
   ]
  },
  {
   "cell_type": "markdown",
   "metadata": {},
   "source": [
    "## LSTM"
   ]
  },
  {
   "cell_type": "code",
   "execution_count": null,
   "metadata": {},
   "outputs": [],
   "source": [
    "df"
   ]
  },
  {
   "cell_type": "code",
   "execution_count": null,
   "metadata": {},
   "outputs": [],
   "source": [
    "df.drop(\"2020-03-08\", inplace=True)"
   ]
  },
  {
   "cell_type": "code",
   "execution_count": null,
   "metadata": {},
   "outputs": [],
   "source": [
    "df"
   ]
  },
  {
   "cell_type": "code",
   "execution_count": null,
   "metadata": {},
   "outputs": [],
   "source": [
    "df_inf = df.iloc[:,0]"
   ]
  },
  {
   "cell_type": "code",
   "execution_count": null,
   "metadata": {},
   "outputs": [],
   "source": [
    "df_inf['2020-01-21']"
   ]
  },
  {
   "cell_type": "code",
   "execution_count": null,
   "metadata": {},
   "outputs": [],
   "source": [
    "df_dea = df.iloc[:,1]"
   ]
  },
  {
   "cell_type": "markdown",
   "metadata": {},
   "source": [
    "### Infected Predictions"
   ]
  },
  {
   "cell_type": "code",
   "execution_count": null,
   "metadata": {},
   "outputs": [],
   "source": [
    "df_inf = df_inf.values\n",
    "df_inf = df_inf.reshape((-1,1))"
   ]
  },
  {
   "cell_type": "code",
   "execution_count": null,
   "metadata": {},
   "outputs": [],
   "source": [
    "split_percent = 0.80\n",
    "split = int(split_percent*len(df_inf))\n",
    "\n",
    "inf_train = df_inf[:split]\n",
    "inf_test = df_inf[split:]"
   ]
  },
  {
   "cell_type": "code",
   "execution_count": null,
   "metadata": {},
   "outputs": [],
   "source": [
    "date_train = df[:split]\n",
    "date_test = df['Date'][split:]"
   ]
  },
  {
   "cell_type": "code",
   "execution_count": null,
   "metadata": {},
   "outputs": [],
   "source": [
    "look_back = 9\n",
    "\n",
    "train_generator = TimeseriesGenerator(inf_train, inf_train, length=look_back, batch_size=20)     \n",
    "test_generator = TimeseriesGenerator(inf_test, inf_test, length=look_back, batch_size=1)"
   ]
  },
  {
   "cell_type": "code",
   "execution_count": null,
   "metadata": {},
   "outputs": [],
   "source": [
    "from keras.models import Sequential\n",
    "from keras.layers import LSTM, Dense\n",
    "\n",
    "model = Sequential()\n",
    "model.add(\n",
    "    LSTM(10,\n",
    "        activation='relu',\n",
    "        input_shape=(look_back,1))\n",
    ")\n",
    "model.add(Dense(1))\n",
    "model.compile(optimizer='adam', loss='mse')\n",
    "\n",
    "num_epochs = 25\n",
    "model.fit_generator(train_generator, epochs=num_epochs, verbose=1)"
   ]
  },
  {
   "cell_type": "code",
   "execution_count": null,
   "metadata": {},
   "outputs": [],
   "source": [
    "prediction = model.predict_generator(test_generator)\n",
    "\n",
    "inf_train = inf_train.reshape((-1))\n",
    "inf_test = inf_test.reshape((-1))\n",
    "prediction = prediction.reshape((-1))\n",
    "\n",
    "trace1 = go.Scatter(\n",
    "    x = date_train,\n",
    "    y = close_train,\n",
    "    mode = 'lines',\n",
    "    name = 'Data'\n",
    ")\n",
    "trace2 = go.Scatter(\n",
    "    x = date_test,\n",
    "    y = prediction,\n",
    "    mode = 'lines',\n",
    "    name = 'Prediction'\n",
    ")\n",
    "trace3 = go.Scatter(\n",
    "    x = date_test,\n",
    "    y = close_test,\n",
    "    mode='lines',\n",
    "    name = 'Ground Truth'\n",
    ")\n",
    "layout = go.Layout(\n",
    "    title = \"Google Stock\",\n",
    "    xaxis = {'title' : \"Date\"},\n",
    "    yaxis = {'title' : \"Close\"}\n",
    ")\n",
    "fig = go.Figure(data=[trace1, trace2, trace3], layout=layout)\n",
    "fig.show()"
   ]
  }
 ],
 "metadata": {
  "kernelspec": {
   "display_name": "Python 3",
   "language": "python",
   "name": "python3"
  },
  "language_info": {
   "codemirror_mode": {
    "name": "ipython",
    "version": 3
   },
   "file_extension": ".py",
   "mimetype": "text/x-python",
   "name": "python",
   "nbconvert_exporter": "python",
   "pygments_lexer": "ipython3",
   "version": "3.8.1"
  }
 },
 "nbformat": 4,
 "nbformat_minor": 4
}
