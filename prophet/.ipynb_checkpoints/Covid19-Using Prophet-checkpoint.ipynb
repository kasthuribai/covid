{
 "cells": [
  {
   "cell_type": "markdown",
   "metadata": {},
   "source": [
    "# 2. Load Data, Summary"
   ]
  },
  {
   "cell_type": "code",
   "execution_count": null,
   "metadata": {},
   "outputs": [],
   "source": [
    "!conda update -n base -c defaults conda\n",
    "!conda install -c plotly plotly==3.10.0 --yes\n",
    "!conda install -c conda-forge fbprophet --yes\n",
    "from fbprophet import Prophet\n",
    "Prophet()"
   ]
  },
  {
   "cell_type": "code",
   "execution_count": 3,
   "metadata": {},
   "outputs": [
    {
     "name": "stdout",
     "output_type": "stream",
     "text": [
      "Collecting package metadata (current_repodata.json): ...working... done\n",
      "Solving environment: ...working... failed with initial frozen solve. Retrying with flexible solve.\n",
      "Solving environment: ...working... failed with repodata from current_repodata.json, will retry with next repodata source.\n",
      "Collecting package metadata (repodata.json): ...working... done\n",
      "Solving environment: ...working... done\n",
      "\n",
      "## Package Plan ##\n",
      "\n",
      "  environment location: C:\\Users\\USER\\Documents\\GitHub\\covid\\env\n",
      "\n",
      "  added / updated specs:\n",
      "    - seaborn=0.9.0\n",
      "\n",
      "\n",
      "The following packages will be downloaded:\n",
      "\n",
      "    package                    |            build\n",
      "    ---------------------------|-----------------\n",
      "    ca-certificates-2020.1.1   |                0         125 KB\n",
      "    certifi-2019.11.28         |           py38_0         153 KB\n",
      "    patsy-0.5.1                |           py38_0         274 KB\n",
      "    seaborn-0.9.0              |     pyh91ea838_1         164 KB\n",
      "    statsmodels-0.11.0         |   py38he774522_0         7.5 MB\n",
      "    ------------------------------------------------------------\n",
      "                                           Total:         8.2 MB\n",
      "\n",
      "The following NEW packages will be INSTALLED:\n",
      "\n",
      "  patsy              pkgs/main/win-64::patsy-0.5.1-py38_0\n",
      "  seaborn            pkgs/main/noarch::seaborn-0.9.0-pyh91ea838_1\n",
      "  statsmodels        pkgs/main/win-64::statsmodels-0.11.0-py38he774522_0\n",
      "\n",
      "The following packages will be SUPERSEDED by a higher-priority channel:\n",
      "\n",
      "  ca-certificates                                  anaconda --> pkgs/main\n",
      "  certifi                                          anaconda --> pkgs/main\n",
      "  openssl                anaconda::openssl-1.1.1-he774522_0 --> pkgs/main::openssl-1.1.1d-he774522_4\n",
      "\n",
      "\n",
      "\n",
      "Downloading and Extracting Packages\n",
      "\n",
      "statsmodels-0.11.0   | 7.5 MB    |            |   0% \n",
      "statsmodels-0.11.0   | 7.5 MB    |            |   0% \n",
      "statsmodels-0.11.0   | 7.5 MB    | 2          |   2% \n",
      "statsmodels-0.11.0   | 7.5 MB    | 4          |   5% \n",
      "statsmodels-0.11.0   | 7.5 MB    | 6          |   7% \n",
      "statsmodels-0.11.0   | 7.5 MB    | 9          |   9% \n",
      "statsmodels-0.11.0   | 7.5 MB    | #1         |  11% \n",
      "statsmodels-0.11.0   | 7.5 MB    | #4         |  14% \n",
      "statsmodels-0.11.0   | 7.5 MB    | #6         |  16% \n",
      "statsmodels-0.11.0   | 7.5 MB    | #8         |  18% \n",
      "statsmodels-0.11.0   | 7.5 MB    | ##1        |  21% \n",
      "statsmodels-0.11.0   | 7.5 MB    | ##3        |  23% \n",
      "statsmodels-0.11.0   | 7.5 MB    | ##6        |  26% \n",
      "statsmodels-0.11.0   | 7.5 MB    | ##8        |  28% \n",
      "statsmodels-0.11.0   | 7.5 MB    | ###        |  31% "
     ]
    },
    {
     "name": "stderr",
     "output_type": "stream",
     "text": [
      "\n",
      "\n",
      "==> WARNING: A newer version of conda exists. <==\n",
      "  current version: 4.7.12\n",
      "  latest version: 4.8.2\n",
      "\n",
      "Please update conda by running\n",
      "\n",
      "    $ conda update -n base -c defaults conda\n",
      "\n",
      "\n"
     ]
    },
    {
     "name": "stdout",
     "output_type": "stream",
     "text": [
      "\n",
      "statsmodels-0.11.0   | 7.5 MB    | ###3       |  33% \n",
      "statsmodels-0.11.0   | 7.5 MB    | ###5       |  36% \n",
      "statsmodels-0.11.0   | 7.5 MB    | ###8       |  38% \n",
      "statsmodels-0.11.0   | 7.5 MB    | ####       |  40% \n",
      "statsmodels-0.11.0   | 7.5 MB    | ####2      |  43% \n",
      "statsmodels-0.11.0   | 7.5 MB    | ####5      |  45% \n",
      "statsmodels-0.11.0   | 7.5 MB    | ####7      |  48% \n",
      "statsmodels-0.11.0   | 7.5 MB    | ####9      |  50% \n",
      "statsmodels-0.11.0   | 7.5 MB    | #####2     |  52% \n",
      "statsmodels-0.11.0   | 7.5 MB    | #####4     |  54% \n",
      "statsmodels-0.11.0   | 7.5 MB    | #####6     |  57% \n",
      "statsmodels-0.11.0   | 7.5 MB    | #####9     |  59% \n",
      "statsmodels-0.11.0   | 7.5 MB    | ######1    |  61% \n",
      "statsmodels-0.11.0   | 7.5 MB    | ######3    |  64% \n",
      "statsmodels-0.11.0   | 7.5 MB    | ######6    |  66% \n",
      "statsmodels-0.11.0   | 7.5 MB    | ######8    |  68% \n",
      "statsmodels-0.11.0   | 7.5 MB    | #######    |  71% \n",
      "statsmodels-0.11.0   | 7.5 MB    | #######3   |  73% \n",
      "statsmodels-0.11.0   | 7.5 MB    | #######5   |  75% \n",
      "statsmodels-0.11.0   | 7.5 MB    | #######7   |  78% \n",
      "statsmodels-0.11.0   | 7.5 MB    | ########   |  80% \n",
      "statsmodels-0.11.0   | 7.5 MB    | ########2  |  82% \n",
      "statsmodels-0.11.0   | 7.5 MB    | ########4  |  85% \n",
      "statsmodels-0.11.0   | 7.5 MB    | ########6  |  87% \n",
      "statsmodels-0.11.0   | 7.5 MB    | ########9  |  89% \n",
      "statsmodels-0.11.0   | 7.5 MB    | #########1 |  92% \n",
      "statsmodels-0.11.0   | 7.5 MB    | #########4 |  94% \n",
      "statsmodels-0.11.0   | 7.5 MB    | #########6 |  97% \n",
      "statsmodels-0.11.0   | 7.5 MB    | #########8 |  99% \n",
      "statsmodels-0.11.0   | 7.5 MB    | ########## | 100% \n",
      "\n",
      "seaborn-0.9.0        | 164 KB    |            |   0% \n",
      "seaborn-0.9.0        | 164 KB    | #####8     |  59% \n",
      "seaborn-0.9.0        | 164 KB    | ########## | 100% \n",
      "\n",
      "certifi-2019.11.28   | 153 KB    |            |   0% \n",
      "certifi-2019.11.28   | 153 KB    | ######2    |  63% \n",
      "certifi-2019.11.28   | 153 KB    | ########## | 100% \n",
      "\n",
      "ca-certificates-2020 | 125 KB    |            |   0% \n",
      "ca-certificates-2020 | 125 KB    | #######6   |  77% \n",
      "ca-certificates-2020 | 125 KB    | ########## | 100% \n",
      "\n",
      "patsy-0.5.1          | 274 KB    |            |   0% \n",
      "patsy-0.5.1          | 274 KB    | ###4       |  35% \n",
      "patsy-0.5.1          | 274 KB    | ########## | 100% \n",
      "Preparing transaction: ...working... done\n",
      "Verifying transaction: ...working... done\n",
      "Executing transaction: ...working... done\n"
     ]
    }
   ],
   "source": [
    "!conda install seaborn=0.9.0 --yes"
   ]
  },
  {
   "cell_type": "code",
   "execution_count": null,
   "metadata": {},
   "outputs": [],
   "source": [
    "import pandas as pd\n",
    "import numpy as np\n",
    "import matplotlib.pyplot as plt\n",
    "import seaborn as sns\n",
    "import fbprophet\n",
    "from fbprophet import Prophet\n",
    "plt.style.use('ggplot')"
   ]
  },
  {
   "cell_type": "code",
   "execution_count": 35,
   "metadata": {},
   "outputs": [
    {
     "data": {
      "text/html": [
       "<div>\n",
       "<style scoped>\n",
       "    .dataframe tbody tr th:only-of-type {\n",
       "        vertical-align: middle;\n",
       "    }\n",
       "\n",
       "    .dataframe tbody tr th {\n",
       "        vertical-align: top;\n",
       "    }\n",
       "\n",
       "    .dataframe thead th {\n",
       "        text-align: right;\n",
       "    }\n",
       "</style>\n",
       "<table border=\"1\" class=\"dataframe\">\n",
       "  <thead>\n",
       "    <tr style=\"text-align: right;\">\n",
       "      <th></th>\n",
       "      <th>date</th>\n",
       "      <th>country</th>\n",
       "      <th>province</th>\n",
       "      <th>confirmed</th>\n",
       "    </tr>\n",
       "  </thead>\n",
       "  <tbody>\n",
       "    <tr>\n",
       "      <th>0</th>\n",
       "      <td>1/22/2020</td>\n",
       "      <td>1</td>\n",
       "      <td>1</td>\n",
       "      <td>2</td>\n",
       "    </tr>\n",
       "    <tr>\n",
       "      <th>1</th>\n",
       "      <td>1/22/2020</td>\n",
       "      <td>2</td>\n",
       "      <td>1</td>\n",
       "      <td>2</td>\n",
       "    </tr>\n",
       "    <tr>\n",
       "      <th>2</th>\n",
       "      <td>1/22/2020</td>\n",
       "      <td>3</td>\n",
       "      <td>1</td>\n",
       "      <td>0</td>\n",
       "    </tr>\n",
       "    <tr>\n",
       "      <th>3</th>\n",
       "      <td>1/22/2020</td>\n",
       "      <td>4</td>\n",
       "      <td>1</td>\n",
       "      <td>0</td>\n",
       "    </tr>\n",
       "    <tr>\n",
       "      <th>4</th>\n",
       "      <td>1/22/2020</td>\n",
       "      <td>5</td>\n",
       "      <td>1</td>\n",
       "      <td>0</td>\n",
       "    </tr>\n",
       "  </tbody>\n",
       "</table>\n",
       "</div>"
      ],
      "text/plain": [
       "        date  country  province  confirmed\n",
       "0  1/22/2020        1         1          2\n",
       "1  1/22/2020        2         1          2\n",
       "2  1/22/2020        3         1          0\n",
       "3  1/22/2020        4         1          0\n",
       "4  1/22/2020        5         1          0"
      ]
     },
     "execution_count": 35,
     "metadata": {},
     "output_type": "execute_result"
    }
   ],
   "source": [
    "path = \"prophet_train.csv.csv\"\n",
    "train = pd.read_csv(path)\n",
    "train.head()"
   ]
  },
  {
   "cell_type": "code",
   "execution_count": 36,
   "metadata": {},
   "outputs": [
    {
     "data": {
      "text/plain": [
       "(23426, 4)"
      ]
     },
     "execution_count": 36,
     "metadata": {},
     "output_type": "execute_result"
    }
   ],
   "source": [
    "train.shape"
   ]
  },
  {
   "cell_type": "code",
   "execution_count": 37,
   "metadata": {},
   "outputs": [
    {
     "data": {
      "text/html": [
       "<div>\n",
       "<style scoped>\n",
       "    .dataframe tbody tr th:only-of-type {\n",
       "        vertical-align: middle;\n",
       "    }\n",
       "\n",
       "    .dataframe tbody tr th {\n",
       "        vertical-align: top;\n",
       "    }\n",
       "\n",
       "    .dataframe thead th {\n",
       "        text-align: right;\n",
       "    }\n",
       "</style>\n",
       "<table border=\"1\" class=\"dataframe\">\n",
       "  <thead>\n",
       "    <tr style=\"text-align: right;\">\n",
       "      <th></th>\n",
       "      <th>date</th>\n",
       "      <th>country</th>\n",
       "      <th>province</th>\n",
       "      <th>confirmed</th>\n",
       "      <th>year</th>\n",
       "      <th>month</th>\n",
       "      <th>month_year</th>\n",
       "    </tr>\n",
       "  </thead>\n",
       "  <tbody>\n",
       "    <tr>\n",
       "      <th>0</th>\n",
       "      <td>1/22/2020</td>\n",
       "      <td>1</td>\n",
       "      <td>1</td>\n",
       "      <td>2</td>\n",
       "      <td>2020</td>\n",
       "      <td>1</td>\n",
       "      <td>2020-01</td>\n",
       "    </tr>\n",
       "    <tr>\n",
       "      <th>1</th>\n",
       "      <td>1/22/2020</td>\n",
       "      <td>2</td>\n",
       "      <td>1</td>\n",
       "      <td>2</td>\n",
       "      <td>2020</td>\n",
       "      <td>1</td>\n",
       "      <td>2020-01</td>\n",
       "    </tr>\n",
       "    <tr>\n",
       "      <th>2</th>\n",
       "      <td>1/22/2020</td>\n",
       "      <td>3</td>\n",
       "      <td>1</td>\n",
       "      <td>0</td>\n",
       "      <td>2020</td>\n",
       "      <td>1</td>\n",
       "      <td>2020-01</td>\n",
       "    </tr>\n",
       "    <tr>\n",
       "      <th>3</th>\n",
       "      <td>1/22/2020</td>\n",
       "      <td>4</td>\n",
       "      <td>1</td>\n",
       "      <td>0</td>\n",
       "      <td>2020</td>\n",
       "      <td>1</td>\n",
       "      <td>2020-01</td>\n",
       "    </tr>\n",
       "    <tr>\n",
       "      <th>4</th>\n",
       "      <td>1/22/2020</td>\n",
       "      <td>5</td>\n",
       "      <td>1</td>\n",
       "      <td>0</td>\n",
       "      <td>2020</td>\n",
       "      <td>1</td>\n",
       "      <td>2020-01</td>\n",
       "    </tr>\n",
       "  </tbody>\n",
       "</table>\n",
       "</div>"
      ],
      "text/plain": [
       "        date  country  province  confirmed  year  month month_year\n",
       "0  1/22/2020        1         1          2  2020      1    2020-01\n",
       "1  1/22/2020        2         1          2  2020      1    2020-01\n",
       "2  1/22/2020        3         1          0  2020      1    2020-01\n",
       "3  1/22/2020        4         1          0  2020      1    2020-01\n",
       "4  1/22/2020        5         1          0  2020      1    2020-01"
      ]
     },
     "execution_count": 37,
     "metadata": {},
     "output_type": "execute_result"
    }
   ],
   "source": [
    "train[\"year\"] = pd.to_datetime(train[\"date\"]).dt.year\n",
    "train[\"month\"] = pd.to_datetime(train[\"date\"]).dt.month\n",
    "train[\"month_year\"] = pd.to_datetime(train[\"date\"]).dt.to_period('M')\n",
    "train.head()"
   ]
  },
  {
   "cell_type": "markdown",
   "metadata": {},
   "source": [
    "# 3. Missing Values"
   ]
  },
  {
   "cell_type": "code",
   "execution_count": 38,
   "metadata": {},
   "outputs": [
    {
     "data": {
      "text/plain": [
       "date          0\n",
       "country       0\n",
       "province      0\n",
       "confirmed     0\n",
       "year          0\n",
       "month         0\n",
       "month_year    0\n",
       "dtype: int64"
      ]
     },
     "execution_count": 38,
     "metadata": {},
     "output_type": "execute_result"
    }
   ],
   "source": [
    "# train.count() will give a value only if not nan\n",
    "count_nan = len(train) - train.count()\n",
    "count_nan"
   ]
  },
  {
   "cell_type": "markdown",
   "metadata": {},
   "source": [
    "# 4. Individual Feature Visualization"
   ]
  },
  {
   "cell_type": "markdown",
   "metadata": {},
   "source": [
    "# 4.1 Histogram of daily covid-19 cases"
   ]
  },
  {
   "cell_type": "code",
   "execution_count": 41,
   "metadata": {},
   "outputs": [
    {
     "data": {
      "image/png": "[encoded data removed]",
      "text/plain": [
       "<Figure size 432x288 with 1 Axes>"
      ]
     },
     "metadata": {
      "needs_background": "light"
     },
     "output_type": "display_data"
    }
   ],
   "source": [
    "plt.hist(train[\"confirmed\"])\n",
    "plt.show()"
   ]
  },
  {
   "cell_type": "markdown",
   "metadata": {},
   "source": [
    " # 4.2 Increase in number of cases by date and change of increase in cases"
   ]
  },
  {
   "cell_type": "code",
   "execution_count": 42,
   "metadata": {},
   "outputs": [],
   "source": [
    "mean_confirmed = train.groupby([\"date\"], as_index=False)\n",
    "mean_confirmed = mean_confirmed[[\"confirmed\"]].mean()\n",
    "mean_confirmed[\"idx\"] = mean_confirmed.index"
   ]
  },
  {
   "cell_type": "code",
   "execution_count": 43,
   "metadata": {},
   "outputs": [
    {
     "data": {
      "image/png": "[encoded data removed]",
      "text/plain": [
       "<Figure size 360x360 with 1 Axes>"
      ]
     },
     "metadata": {
      "needs_background": "light"
     },
     "output_type": "display_data"
    }
   ],
   "source": [
    "import seaborn as sns\n",
    "g = sns.relplot(x=\"idx\", y=\"confirmed\", data=mean_confirmed, kind=\"line\")\n"
   ]
  },
  {
   "cell_type": "code",
   "execution_count": 44,
   "metadata": {},
   "outputs": [
    {
     "data": {
      "image/png": "[encoded data removed]",
      "text/plain": [
       "<Figure size 360x360 with 1 Axes>"
      ]
     },
     "metadata": {
      "needs_background": "light"
     },
     "output_type": "display_data"
    }
   ],
   "source": [
    "#Change in rate of cases\n",
    "rt = pd.Series(mean_confirmed[\"confirmed\"]).pct_change()\n",
    "rt = pd.DataFrame(rt)\n",
    "rt[\"idx\"] = rt.index\n",
    "rt.fillna(0, inplace=True)\n",
    "g = sns.relplot(y=\"confirmed\", x=\"idx\", data=rt, kind=\"line\")"
   ]
  },
  {
   "cell_type": "markdown",
   "metadata": {},
   "source": [
    "# 4.3 Increase in cases monthly"
   ]
  },
  {
   "cell_type": "code",
   "execution_count": 45,
   "metadata": {},
   "outputs": [
    {
     "data": {
      "image/png": "[encoded data removed]",
      "text/plain": [
       "<Figure size 360x360 with 1 Axes>"
      ]
     },
     "metadata": {
      "needs_background": "light"
     },
     "output_type": "display_data"
    }
   ],
   "source": [
    "mean_confirmed_monthly = train.groupby([\"month_year\"], as_index=False)\n",
    "mean_confirmed_monthly = mean_confirmed_monthly[[\"confirmed\"]].mean()\n",
    "mean_confirmed_monthly[\"idx\"] = mean_confirmed_monthly.index\n",
    "g = sns.relplot(y=\"confirmed\", x=\"idx\", data=mean_confirmed_monthly, kind=\"line\")"
   ]
  },
  {
   "cell_type": "markdown",
   "metadata": {},
   "source": [
    "# 4.4 Increase in Cases by country"
   ]
  },
  {
   "cell_type": "code",
   "execution_count": 50,
   "metadata": {},
   "outputs": [
    {
     "data": {
      "image/png": "[encoded data removed]",
      "text/plain": [
       "<Figure size 434.125x360 with 1 Axes>"
      ]
     },
     "metadata": {
      "needs_background": "light"
     },
     "output_type": "display_data"
    }
   ],
   "source": [
    "data = train.groupby(['country',\"date\"])\n",
    "mean = data[[\"confirmed\"]].mean()\n",
    "mean = mean.add_suffix('').reset_index()\n",
    "g = sns.relplot(y=\"confirmed\", x=\"date\", data=mean, kind=\"line\", hue=\"country\")\n"
   ]
  },
  {
   "cell_type": "markdown",
   "metadata": {},
   "source": [
    "# 5. Prophet Model"
   ]
  },
  {
   "cell_type": "markdown",
   "metadata": {},
   "source": [
    "# Building the model for country=5(USA)"
   ]
  },
  {
   "cell_type": "code",
   "execution_count": null,
   "metadata": {},
   "outputs": [],
   "source": [
    "import warnings\n",
    "warnings.filterwarnings('ignore')"
   ]
  },
  {
   "cell_type": "code",
   "execution_count": null,
   "metadata": {},
   "outputs": [],
   "source": [
    "s1i1 = train[(train[\"country\"]==15)]\n",
    "s1i1[\"confirmed\"] = np.log1p(s1i1[\"confirmed\"])\n",
    "s1i1.head()"
   ]
  },
  {
   "cell_type": "code",
   "execution_count": null,
   "metadata": {},
   "outputs": [],
   "source": [
    "stats = s1i1[[\"date\", \"confirmed\"]]\n",
    "stats.columns = [\"ds\", \"y\"]\n",
    "stats.head()"
   ]
  },
  {
   "cell_type": "code",
   "execution_count": null,
   "metadata": {},
   "outputs": [],
   "source": [
    "m = Prophet()\n",
    "m.fit(stats)\n",
    "future = m.make_future_dataframe(periods=365)\n",
    "future.tail()"
   ]
  },
  {
   "cell_type": "code",
   "execution_count": null,
   "metadata": {},
   "outputs": [],
   "source": [
    "forecast = m.predict(future)\n",
    "forecast[['ds', 'yhat', 'yhat_lower', 'yhat_upper']].tail()\n"
   ]
  },
  {
   "cell_type": "code",
   "execution_count": null,
   "metadata": {},
   "outputs": [],
   "source": [
    "pd.plotting.register_matplotlib_converters()\n",
    "fig1 = m.plot(forecast)\n"
   ]
  },
  {
   "cell_type": "code",
   "execution_count": null,
   "metadata": {},
   "outputs": [],
   "source": [
    "fig2 = m.plot_components(forecast)"
   ]
  },
  {
   "cell_type": "markdown",
   "metadata": {},
   "source": [
    "SMAPE Calcuation"
   ]
  },
  {
   "cell_type": "code",
   "execution_count": null,
   "metadata": {},
   "outputs": [],
   "source": [
    "ps1i1 = forecast[[\"ds\"]]\n",
    "ps1i1[\"forecast\"] = np.expm1(forecast[\"yhat\"])\n",
    "ps1i1[\"yearmonth\"] = pd.to_datetime(ps1i1[\"ds\"]).dt.to_period(\"M\")\n",
    "ps1i1.head()"
   ]
  },
  {
   "cell_type": "code",
   "execution_count": null,
   "metadata": {},
   "outputs": [],
   "source": [
    "def smape(outsample, forecast):\n",
    "    num = np.abs(outsample-forecast)\n",
    "    denom = np.abs(outsample) + np.abs(forecast)\n",
    "    return (num/denom)/2\n",
    "\n",
    "stats[\"ds\"] = pd.to_datetime(stats[\"ds\"])"
   ]
  },
  {
   "cell_type": "code",
   "execution_count": null,
   "metadata": {},
   "outputs": [],
   "source": [
    "ps1i1[\"ds\"] = pd.to_datetime(ps1i1[\"ds\"])"
   ]
  },
  {
   "cell_type": "code",
   "execution_count": null,
   "metadata": {},
   "outputs": [],
   "source": [
    "train_predict = stats.merge(ps1i1)"
   ]
  },
  {
   "cell_type": "code",
   "execution_count": null,
   "metadata": {},
   "outputs": [],
   "source": [
    "smape_err = smape(train_predict[\"y\"], train_predict[\"forecast\"])\n",
    "smape_err = smape_err[~np.isnan(smape_err)]\n",
    "np.mean(smape_err)"
   ]
  },
  {
   "cell_type": "markdown",
   "metadata": {},
   "source": [
    "# Automated forecasting with Prophet"
   ]
  },
  {
   "cell_type": "code",
   "execution_count": null,
   "metadata": {},
   "outputs": [],
   "source": [
    "train[\"confirmed\"] = np.log1p(train[\"confirmed\"]) \n",
    "train[\"confirmed\"] = np.log1p(train[\"confirmed\"])\n",
    "train.columns = [\"ds\", \"country\", \"item\", \"confirmed\", \"y\", \"m\", \"my\"]\n",
    "train.head() "
   ]
  },
  {
   "cell_type": "code",
   "execution_count": null,
   "metadata": {},
   "outputs": [],
   "source": [
    "future = m.make_future_dataframe(periods=90)\n",
    "forecast = m.predict(future)\n"
   ]
  },
  {
   "cell_type": "code",
   "execution_count": null,
   "metadata": {},
   "outputs": [],
   "source": [
    "df = train[(train[\"country\"]==91)]\n",
    "df = df[[\"ds\", \"confirmed\"]]\n",
    "df.columns = [\"ds\", \"y\"]\n",
    "df.head()"
   ]
  },
  {
   "cell_type": "code",
   "execution_count": null,
   "metadata": {},
   "outputs": [],
   "source": []
  },
  {
   "cell_type": "code",
   "execution_count": null,
   "metadata": {},
   "outputs": [],
   "source": []
  }
 ],
 "metadata": {
  "kernelspec": {
   "display_name": "Python 3",
   "language": "python",
   "name": "python3"
  }
 },
 "nbformat": 4,
 "nbformat_minor": 2
}
